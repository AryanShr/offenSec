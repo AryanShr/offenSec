{
  "cells": [
    {
      "cell_type": "code",
      "execution_count": null,
      "metadata": {
        "colab": {
          "base_uri": "https://localhost:8080/"
        },
        "id": "vwQ5MDP4RDsc",
        "outputId": "843c207d-7090-465a-e83a-da943214ffdf"
      },
      "outputs": [
        {
          "name": "stdout",
          "output_type": "stream",
          "text": [
            "Drive already mounted at /content/drive; to attempt to forcibly remount, call drive.mount(\"/content/drive\", force_remount=True).\n"
          ]
        }
      ],
      "source": [
        "# from google.colab import drive\n",
        "# drive.mount('/content/drive')"
      ]
    },
    {
      "cell_type": "code",
      "execution_count": null,
      "metadata": {
        "id": "NLZSLH_VR8Gu"
      },
      "outputs": [],
      "source": [
        "from typing import List, Tuple\n",
        "from enum import Enum\n",
        "from typing import Union\n",
        "import torch\n",
        "from torch import Tensor\n",
        "import torch.nn as nn\n",
        "from torch.utils.data import Dataset, DataLoader, Subset\n",
        "import numpy as np\n",
        "import sklearn\n",
        "from sklearn.tree import DecisionTreeClassifier\n",
        "from sklearn.ensemble import RandomForestClassifier\n",
        "from sklearn.linear_model import LogisticRegression\n",
        "from sklearn.neural_network import MLPClassifier\n",
        "from sklearn.svm import SVC\n",
        "from sklearn.metrics import confusion_matrix, roc_auc_score\n",
        "from pathlib import Path\n",
        "import pickle"
      ]
    },
    {
      "cell_type": "code",
      "execution_count": null,
      "metadata": {
        "colab": {
          "base_uri": "https://localhost:8080/",
          "height": 35
        },
        "id": "qa4cNBlcvhN-",
        "outputId": "4d1d877c-30a2-42e4-8859-9d9125f97b1a"
      },
      "outputs": [
        {
          "data": {
            "application/vnd.google.colaboratory.intrinsic+json": {
              "type": "string"
            },
            "text/plain": [
              "'1.2.2'"
            ]
          },
          "execution_count": 4,
          "metadata": {},
          "output_type": "execute_result"
        }
      ],
      "source": [
        "sklearn.__version__"
      ]
    },
    {
      "cell_type": "code",
      "execution_count": null,
      "metadata": {
        "id": "jROLE4xaR_RM"
      },
      "outputs": [],
      "source": [
        "TorchOrNumpy = Union[np.ndarray, torch.Tensor]"
      ]
    },
    {
      "cell_type": "code",
      "execution_count": null,
      "metadata": {
        "id": "tYhcOAdQ1L11"
      },
      "outputs": [],
      "source": []
    },
    {
      "cell_type": "code",
      "execution_count": null,
      "metadata": {
        "id": "J3XvZYWTRHam"
      },
      "outputs": [],
      "source": [
        "class BlackBoxDetector:\n",
        "    \"\"\"\n",
        "    Black box detector that intends to mimic an antivirus/anti-Malware program that detects whether\n",
        "    a specific program is either malware or benign.\n",
        "    \"\"\"\n",
        "    class Type(Enum):\n",
        "        DecisionTree = DecisionTreeClassifier()\n",
        "        LogisticRegression = LogisticRegression(solver='lbfgs', max_iter=int(1e6))\n",
        "        MultiLayerPerceptron = MLPClassifier()\n",
        "        RandomForest = RandomForestClassifier(n_estimators=100)\n",
        "        SVM = SVC(gamma=\"auto\",probability=True)\n",
        "\n",
        "        @staticmethod\n",
        "        def names():\n",
        "            r\"\"\" Builds the list of all enum names \"\"\"\n",
        "            return [c.name for c in BlackBoxDetector.Type]\n",
        "\n",
        "        @staticmethod\n",
        "        def get_from_name(name):\n",
        "            for c in BlackBoxDetector.Type:\n",
        "                if c.name == name:\n",
        "                    return c\n",
        "            raise ValueError(\"Unknown enum \\\"%s\\\" for class \\\"%s\\\"\", name, __class__.name)\n",
        "\n",
        "    def __init__(self, learner_type: 'BlackBoxDetector.Type'):\n",
        "        self.type = learner_type\n",
        "        self._model = sklearn.clone(self.type.value)\n",
        "        self.training = True\n",
        "\n",
        "    def fit(self, X: TorchOrNumpy, y: TorchOrNumpy):\n",
        "        if isinstance(X, torch.Tensor):\n",
        "            X = X.numpy()\n",
        "        if isinstance(y, torch.Tensor):\n",
        "            y = y.numpy()\n",
        "        self._model.fit(X, y)\n",
        "        self.training = False\n",
        "\n",
        "    def predict(self, X: TorchOrNumpy) -> torch.tensor:\n",
        "        if self.training:\n",
        "            raise ValueError(\"Detector does not appear to be trained but trying to predict\")\n",
        "        if torch.cuda.is_available():\n",
        "            X = X.cpu()\n",
        "        if isinstance(X, torch.Tensor):\n",
        "            X = X.numpy()\n",
        "        print(X)\n",
        "        y = torch.from_numpy(self._model.predict(X)).float()\n",
        "        return y.cuda() if torch.cuda.is_available() else y"
      ]
    },
    {
      "cell_type": "code",
      "execution_count": null,
      "metadata": {
        "id": "kmajhQxuJoRy"
      },
      "outputs": [],
      "source": [
        "class MalwareDataset(Dataset):\n",
        "    \"\"\"\n",
        "    Encapsulates a malware dataset.  All elements in the dataset will be either malware or benign\n",
        "    \"\"\"\n",
        "    def __init__(self, x: Union[np.ndarray, torch.Tensor], y):\n",
        "        super().__init__()\n",
        "\n",
        "        if isinstance(x, np.ndarray):\n",
        "            x = torch.from_numpy(x).float()\n",
        "        self.x = x\n",
        "        self.y = y\n",
        "\n",
        "    def __getitem__(self, index):\n",
        "        return self.x[index], self.y\n",
        "\n",
        "    def __len__(self):\n",
        "        return self.x.shape[0]\n",
        "\n",
        "    @property\n",
        "    def num_features(self):\n",
        "        r\"\"\" Number of features in the dataset \"\"\"\n",
        "        return self.x.shape[1]"
      ]
    },
    {
      "cell_type": "code",
      "execution_count": null,
      "metadata": {
        "id": "u9JZrEPsbO_q"
      },
      "outputs": [],
      "source": [
        "class _DataGroup:\n",
        "    r\"\"\"Encapsulates either PyTorch DataLoaders or Datasets.  This class is intended only for internal use by MalGAN.\"\"\"\n",
        "    def __init__(self, train: MalwareDataset, valid: MalwareDataset, test: MalwareDataset):\n",
        "        self.train = train\n",
        "        self.valid = valid\n",
        "        self.test = test\n",
        "        self.is_loaders = False\n",
        "\n",
        "    def build_loader(self, batch_size: int = 0):\n",
        "        r\"\"\" Constructs loaders from the datasets :param batch_size: Batch size for training \"\"\"\n",
        "        self.train = DataLoader(self.train, batch_size=batch_size, shuffle=True, pin_memory=True)\n",
        "        if self.valid:\n",
        "            self.valid = DataLoader(self.valid, batch_size=batch_size, pin_memory=True)\n",
        "        self.test = DataLoader(self.test, batch_size=batch_size, pin_memory=True)\n",
        "        self.is_loaders = True"
      ]
    },
    {
      "cell_type": "code",
      "execution_count": null,
      "metadata": {
        "id": "n6yr5Yqfw-G6"
      },
      "outputs": [],
      "source": [
        "VALIDATION_SPLIT = 0.2"
      ]
    },
    {
      "cell_type": "code",
      "execution_count": null,
      "metadata": {
        "id": "yQAtC9eFxAcT"
      },
      "outputs": [],
      "source": []
    },
    {
      "cell_type": "code",
      "execution_count": null,
      "metadata": {
        "id": "fvMpzKjkv2XB"
      },
      "outputs": [],
      "source": [
        "def split_train_valid_test(dataset: Dataset, is_benign: bool):\n",
        "  \"\"\"Helper function to partition into test, train, and validation subsets\"\"\"\n",
        "  valid_len = 0 if is_benign else int(VALIDATION_SPLIT * len(dataset))\n",
        "  test_len = int(0.3 * len(dataset))\n",
        "\n",
        "  # Order must be train, validation, test\n",
        "  lengths = [len(dataset) - valid_len - test_len, valid_len, test_len]\n",
        "  return _DataGroup(*torch.utils.data.random_split(dataset, lengths))"
      ]
    },
    {
      "cell_type": "code",
      "execution_count": null,
      "metadata": {
        "id": "q475Q0UTwUkd"
      },
      "outputs": [],
      "source": [
        "def load_dataset(file_path: Union[str, Path], y: int) -> MalwareDataset:\n",
        "    file_ext = Path(file_path).suffix\n",
        "    if file_ext in {\".npy\", \".npz\"}:\n",
        "        data = np.load(file_path)\n",
        "        # DEBUG\n",
        "        print(data.view())\n",
        "\n",
        "    elif file_ext in {\".pt\", \".pth\"}:\n",
        "        data = torch.load(str(file_path))\n",
        "    elif file_ext == \".pk\":\n",
        "        with open(str(file_path), \"rb\") as f_in:\n",
        "            data = pickle.load(f_in)\n",
        "    else:\n",
        "        raise ValueError(\"Unknown file extension.  Cannot determine how to import\")\n",
        "    return MalwareDataset(x=data, y=y)"
      ]
    },
    {
      "cell_type": "code",
      "execution_count": null,
      "metadata": {
        "id": "RumtQBNfwEVx"
      },
      "outputs": [],
      "source": [
        "malware_features = Path(\"/content/drive/MyDrive/Feature_Vector/malware_feature_set.pk\")\n",
        "benign_features = Path(\"/content/drive/MyDrive/Feature_Vector/benign_feature_set.pk\")"
      ]
    },
    {
      "cell_type": "code",
      "execution_count": null,
      "metadata": {
        "id": "b2ZMYLtewPtU"
      },
      "outputs": [],
      "source": [
        "malware = load_dataset(str(malware_features), 1)\n",
        "benign = load_dataset(str(benign_features), 0)"
      ]
    },
    {
      "cell_type": "code",
      "execution_count": null,
      "metadata": {
        "colab": {
          "base_uri": "https://localhost:8080/"
        },
        "id": "0LhiM3m_wKIK",
        "outputId": "2762c031-e5ff-4785-bf04-1dcac5907203"
      },
      "outputs": [
        {
          "data": {
            "text/plain": [
              "(<__main__._DataGroup at 0x7cf8a85b0f40>,\n",
              " <__main__._DataGroup at 0x7cf8a85b0520>)"
            ]
          },
          "execution_count": 213,
          "metadata": {},
          "output_type": "execute_result"
        }
      ],
      "source": [
        "mal_data = split_train_valid_test(malware, is_benign=False)\n",
        "ben_data = split_train_valid_test(benign, is_benign=True)\n",
        "mal_data, ben_data"
      ]
    },
    {
      "cell_type": "code",
      "execution_count": null,
      "metadata": {
        "id": "eiLfIj0Cu9P4"
      },
      "outputs": [],
      "source": [
        "bb = BlackBoxDetector(BlackBoxDetector.Type.RandomForest)"
      ]
    },
    {
      "cell_type": "code",
      "execution_count": null,
      "metadata": {
        "id": "xxTYi-CrvmQ1"
      },
      "outputs": [],
      "source": [
        "def extract_x(ds: Subset) -> torch.Tensor:\n",
        "  # noinspection PyUnresolvedReferences\n",
        "  x = ds.dataset.x[ds.indices]\n",
        "  return x.cpu() if torch.cuda.is_available() else x"
      ]
    },
    {
      "cell_type": "code",
      "execution_count": null,
      "metadata": {
        "id": "P4uw-j03whs6"
      },
      "outputs": [],
      "source": [
        "mal_x = extract_x(mal_data.train)\n",
        "ben_x = extract_x(ben_data.train)"
      ]
    },
    {
      "cell_type": "code",
      "execution_count": null,
      "metadata": {
        "colab": {
          "base_uri": "https://localhost:8080/"
        },
        "id": "07HwYVpdwl-3",
        "outputId": "277d8224-b2d4-4954-b937-57944c1e0cf2"
      },
      "outputs": [
        {
          "data": {
            "text/plain": [
              "tensor([[0., 0., 0.,  ..., 0., 0., 0.],\n",
              "        [0., 1., 1.,  ..., 0., 0., 0.],\n",
              "        [0., 1., 0.,  ..., 0., 0., 0.],\n",
              "        ...,\n",
              "        [0., 1., 0.,  ..., 0., 0., 0.],\n",
              "        [0., 1., 0.,  ..., 0., 0., 0.],\n",
              "        [0., 0., 0.,  ..., 0., 0., 0.]])"
            ]
          },
          "execution_count": 217,
          "metadata": {},
          "output_type": "execute_result"
        }
      ],
      "source": [
        "merge_data = torch.cat((mal_x,ben_x))\n",
        "merge_data"
      ]
    },
    {
      "cell_type": "code",
      "execution_count": null,
      "metadata": {
        "colab": {
          "base_uri": "https://localhost:8080/"
        },
        "id": "-resGR6fwqQ3",
        "outputId": "7ead3489-9276-42cf-cd46-70e3736f1834"
      },
      "outputs": [
        {
          "data": {
            "text/plain": [
              "tensor([1, 1, 1,  ..., 0, 0, 0])"
            ]
          },
          "execution_count": 218,
          "metadata": {},
          "output_type": "execute_result"
        }
      ],
      "source": [
        "merged_y = torch.cat((torch.full((len(mal_data.train),), 1), torch.full((len(ben_data.train),), 0)))\n",
        "merged_y"
      ]
    },
    {
      "cell_type": "code",
      "execution_count": null,
      "metadata": {
        "id": "Woc6eidIwq7M"
      },
      "outputs": [],
      "source": [
        "bb.fit(merge_data,merged_y)"
      ]
    },
    {
      "cell_type": "code",
      "execution_count": null,
      "metadata": {
        "id": "PRrXnbv9xEk2"
      },
      "outputs": [],
      "source": [
        "from sklearn.ensemble import VotingClassifier\n",
        "\n",
        "class EnsembleBlackBoxDetector:\n",
        "    def __init__(self):\n",
        "        self.models = [\n",
        "            ('DecisionTree', DecisionTreeClassifier()),\n",
        "            ('RandomForest', RandomForestClassifier()),\n",
        "            ('SVC', SVC(probability=True)),\n",
        "            ('Logistic', LogisticRegression()),\n",
        "            ('MLP', MLPClassifier())\n",
        "        ]\n",
        "        self.ensemble_model = VotingClassifier(estimators=self.models, voting='soft')\n",
        "        self.training = True\n",
        "\n",
        "    def fit(self, X: TorchOrNumpy, y: TorchOrNumpy):\n",
        "        if isinstance(X, torch.Tensor):\n",
        "            X = X.numpy()\n",
        "        if isinstance(y, torch.Tensor):\n",
        "            y = y.numpy()\n",
        "        self.ensemble_model.fit(X, y)\n",
        "        self.training = False\n",
        "\n",
        "    def predict(self, X: TorchOrNumpy) -> torch.tensor:\n",
        "        if self.training:\n",
        "            raise ValueError(\"Detector does not appear to be trained but trying to predict\")\n",
        "        if torch.cuda.is_available():\n",
        "            X = X.cpu()\n",
        "        if isinstance(X, torch.Tensor):\n",
        "            X = X.numpy()\n",
        "        print(X)\n",
        "        y = torch.from_numpy(self.ensemble_model.predict_proba(X)[:, 1]).float()\n",
        "        return y.cuda() if torch.cuda.is_available() else y\n",
        "    def save_model(self, filename):\n",
        "        with open(filename, 'wb') as file:\n",
        "            pickle.dump(self.ensemble_model, file)\n",
        "\n",
        "    @classmethod\n",
        "    def load_model(cls, filename, learner_types):\n",
        "        with open(filename, 'rb') as file:\n",
        "            ensemble_model = pickle.load(file)\n",
        "        ensemble_detector = cls(learner_types)\n",
        "        ensemble_detector.ensemble_model = ensemble_model\n",
        "        ensemble_detector.training = False\n",
        "        return ensemble_detector\n"
      ]
    },
    {
      "cell_type": "code",
      "execution_count": null,
      "metadata": {
        "id": "v6YdVP4Wxh1d"
      },
      "outputs": [],
      "source": [
        "EBD = EnsembleBlackBoxDetector()"
      ]
    },
    {
      "cell_type": "code",
      "execution_count": null,
      "metadata": {
        "id": "TyBoAKh6yVV5"
      },
      "outputs": [],
      "source": [
        "EBD.fit(merge_data,merged_y)"
      ]
    },
    {
      "cell_type": "code",
      "execution_count": null,
      "metadata": {
        "id": "uVml3BzRycmj"
      },
      "outputs": [],
      "source": [
        "# Create some dummy data for prediction\n",
        "X_test = np.random.choice([0, 1], size=(1, 6005))\n",
        "\n",
        "# Convert numpy array to torch tensor\n",
        "X_test_torch = torch.from_numpy(X_test).float()"
      ]
    },
    {
      "cell_type": "code",
      "execution_count": null,
      "metadata": {
        "colab": {
          "base_uri": "https://localhost:8080/"
        },
        "id": "6QiBpaYMs0Yn",
        "outputId": "1814b19c-ba74-41a1-e3d0-3499adcdfb63"
      },
      "outputs": [
        {
          "data": {
            "text/plain": [
              "tensor([[1., 1., 0.,  ..., 0., 1., 0.]])"
            ]
          },
          "execution_count": 249,
          "metadata": {},
          "output_type": "execute_result"
        }
      ],
      "source": [
        "X_test_torch"
      ]
    },
    {
      "cell_type": "code",
      "execution_count": null,
      "metadata": {
        "colab": {
          "base_uri": "https://localhost:8080/"
        },
        "id": "xEOcJkU51kXf",
        "outputId": "5c97f100-85a1-4538-a9aa-0b9bad6e1057"
      },
      "outputs": [
        {
          "name": "stdout",
          "output_type": "stream",
          "text": [
            "[[1. 1. 0. ... 0. 1. 0.]]\n"
          ]
        },
        {
          "data": {
            "text/plain": [
              "tensor([0.8601])"
            ]
          },
          "execution_count": 250,
          "metadata": {},
          "output_type": "execute_result"
        }
      ],
      "source": [
        "# Predict the labels for the test data\n",
        "y_pred = EBD.predict(X_test_torch)\n",
        "\n",
        "# Print the predicted labels\n",
        "y_pred"
      ]
    },
    {
      "cell_type": "code",
      "execution_count": null,
      "metadata": {
        "colab": {
          "base_uri": "https://localhost:8080/"
        },
        "id": "ENjsC7tW1qtA",
        "outputId": "692d825e-bccf-4b06-927b-4445e033e59d"
      },
      "outputs": [
        {
          "data": {
            "text/plain": [
              "array([[1., 1., 0., ..., 0., 1., 0.]], dtype=float32)"
            ]
          },
          "execution_count": 251,
          "metadata": {},
          "output_type": "execute_result"
        }
      ],
      "source": [
        "x = X_test_torch.numpy()\n",
        "x"
      ]
    },
    {
      "cell_type": "code",
      "execution_count": null,
      "metadata": {
        "colab": {
          "base_uri": "https://localhost:8080/"
        },
        "id": "2tVles8OxHsE",
        "outputId": "de98cb98-c2e2-4dda-ed7f-79def37a9e85"
      },
      "outputs": [
        {
          "name": "stdout",
          "output_type": "stream",
          "text": [
            "Requirement already satisfied: lief in /usr/local/lib/python3.10/dist-packages (0.14.1)\n"
          ]
        }
      ],
      "source": [
        "!pip install lief"
      ]
    },
    {
      "cell_type": "code",
      "execution_count": null,
      "metadata": {
        "id": "sMi5gRlTu3bv"
      },
      "outputs": [],
      "source": [
        "import lief\n",
        "import logging\n",
        "import re\n",
        "\n",
        "# Set up logging\n",
        "logging.basicConfig(level=logging.DEBUG)\n",
        "logger = logging.getLogger(__name__)\n",
        "\n",
        "def filter_imported_functions(func_string_with_library):\n",
        "    \"\"\"\n",
        "    Filters the returned imported functions of binary to remove those with special characters (lots of noise for some reason),\n",
        "    and require functions to start with a capital letter since Windows API functions seem to obey Upper Camelcase convension.\n",
        "\n",
        "    Update: The limitation for the upper case in the preprocessing step has been removed.\n",
        "    \"\"\"\n",
        "    func_string = func_string_with_library.split(\":\")[0]\n",
        "\n",
        "    if re.match(\"^[a-zA-Z]*$\", func_string):\n",
        "        return True\n",
        "    else:\n",
        "        return False\n",
        "\n",
        "def process_imported_functions_output(imports):\n",
        "    imports = list(filter(lambda x: filter_imported_functions(x), imports))\n",
        "    # imports = list(map(lambda x: remove_encoding_indicator(x), imports))\n",
        "    return imports\n",
        "\n",
        "def feature_generation(file: str, feature_vector_mapping: dict):\n",
        "    feature_vector = [0] * len(feature_vector_mapping)\n",
        "\n",
        "    try:\n",
        "        binary = lief.parse(file)\n",
        "        imports = [e.name + ':' + lib.name.lower() for lib in binary.imports for e in lib.entries]\n",
        "        imports = process_imported_functions_output(imports)\n",
        "\n",
        "        sections = [section.name for section in binary.sections]\n",
        "\n",
        "        for lib_import in imports:\n",
        "            if lib_import in feature_vector_mapping:\n",
        "                index = feature_vector_mapping[lib_import]\n",
        "                feature_vector[index] = 1\n",
        "\n",
        "        for section in sections:\n",
        "            if section in feature_vector_mapping:\n",
        "                index = feature_vector_mapping[section]\n",
        "                feature_vector[index] = 1\n",
        "\n",
        "    except Exception as e:\n",
        "        logger.error(f\"Error parsing {file}: {str(e)}\")\n",
        "        # You can choose to handle the error differently\n",
        "\n",
        "    return [feature_vector]"
      ]
    },
    {
      "cell_type": "code",
      "execution_count": null,
      "metadata": {
        "id": "zrAYum84xNfo"
      },
      "outputs": [],
      "source": [
        "# prompt: load a pickle file\n",
        "\n",
        "with open('/content/drive/MyDrive/Feature_Vector/feature_vector_mapping.pk', 'rb') as f:\n",
        "    feature_vector_mapping = pickle.load(f)\n"
      ]
    },
    {
      "cell_type": "code",
      "execution_count": null,
      "metadata": {
        "colab": {
          "base_uri": "https://localhost:8080/"
        },
        "id": "CRQwxddSxeVJ",
        "outputId": "3febe15b-8937-4f8d-b154-633a86951a9d"
      },
      "outputs": [
        {
          "data": {
            "text/plain": [
              "6005"
            ]
          },
          "execution_count": 255,
          "metadata": {},
          "output_type": "execute_result"
        }
      ],
      "source": [
        "len(feature_vector_mapping)"
      ]
    },
    {
      "cell_type": "code",
      "execution_count": null,
      "metadata": {
        "id": "i0ER8J_oxgE9"
      },
      "outputs": [],
      "source": [
        "benign_path = \"/content/drive/MyDrive/Dataset/Benign/Benign test/ApacheMonitor.exe\"\n",
        "malware_path = \"/content/drive/MyDrive/Dataset/Virus/Virus test/Locker/VirusShare_0e4c40c9c9921673242963ccd664ab91.exe\""
      ]
    },
    {
      "cell_type": "code",
      "execution_count": null,
      "metadata": {
        "colab": {
          "base_uri": "https://localhost:8080/"
        },
        "id": "POmFJEFHxuF5",
        "outputId": "eb19145d-3588-4604-85c7-9f4ae7bd2bd3"
      },
      "outputs": [
        {
          "data": {
            "text/plain": [
              "(tensor([[0., 0., 1.,  ..., 0., 0., 0.]]),\n",
              " tensor([[1., 1., 1.,  ..., 0., 0., 0.]]))"
            ]
          },
          "execution_count": 266,
          "metadata": {},
          "output_type": "execute_result"
        }
      ],
      "source": [
        "X_test_ben = feature_generation(benign_path,feature_vector_mapping)\n",
        "X_test_mal = feature_generation(malware_path,feature_vector_mapping)\n",
        "X_test_torch_ben = torch.tensor(X_test_ben).float()\n",
        "X_test_torch_mal = torch.tensor(X_test_mal).float()\n",
        "X_test_torch_ben, X_test_torch_mal"
      ]
    },
    {
      "cell_type": "code",
      "execution_count": null,
      "metadata": {
        "colab": {
          "base_uri": "https://localhost:8080/"
        },
        "id": "X_YWoCN6x3uR",
        "outputId": "16911a74-65a7-4ae3-b8c3-5f3e4c7345d5"
      },
      "outputs": [
        {
          "name": "stdout",
          "output_type": "stream",
          "text": [
            "[[0. 0. 1. ... 0. 0. 0.]]\n",
            "[[1. 1. 1. ... 0. 0. 0.]]\n"
          ]
        },
        {
          "data": {
            "text/plain": [
              "(tensor([0.5217]), tensor([0.9996]))"
            ]
          },
          "execution_count": 267,
          "metadata": {},
          "output_type": "execute_result"
        }
      ],
      "source": [
        "EBD.predict(X_test_torch_ben),EBD.predict(X_test_torch_mal)"
      ]
    },
    {
      "cell_type": "code",
      "execution_count": null,
      "metadata": {
        "id": "-kP_h4Hyyk8h"
      },
      "outputs": [],
      "source": [
        "with open(\"/content/drive/MyDrive/MalwareScore.pkl\",\"wb\") as ms:\n",
        "  pickle.dump(EBD,ms)"
      ]
    },
    {
      "cell_type": "code",
      "execution_count": null,
      "metadata": {
        "id": "LjDrUAkYOsQb"
      },
      "outputs": [],
      "source": [
        "# EBD.save_model(\"/content/drive/MyDrive/MalwareScore.pkl\")"
      ]
    },
    {
      "cell_type": "code",
      "execution_count": null,
      "metadata": {
        "colab": {
          "base_uri": "https://localhost:8080/",
          "height": 141
        },
        "id": "ip0ktFhFO1s2",
        "outputId": "b736514d-493c-462f-e3c4-554b992d433f"
      },
      "outputs": [
        {
          "ename": "TypeError",
          "evalue": "EnsembleBlackBoxDetector.load_model() missing 1 required positional argument: 'learner_types'",
          "output_type": "error",
          "traceback": [
            "\u001b[0;31m---------------------------------------------------------------------------\u001b[0m",
            "\u001b[0;31mTypeError\u001b[0m                                 Traceback (most recent call last)",
            "\u001b[0;32m<ipython-input-261-888e1a3fb04f>\u001b[0m in \u001b[0;36m<cell line: 1>\u001b[0;34m()\u001b[0m\n\u001b[0;32m----> 1\u001b[0;31m \u001b[0mEBD\u001b[0m\u001b[0;34m.\u001b[0m\u001b[0mload_model\u001b[0m\u001b[0;34m(\u001b[0m\u001b[0;34m\"/content/drive/MyDrive/MalwareScore.pkl\"\u001b[0m\u001b[0;34m)\u001b[0m\u001b[0;34m\u001b[0m\u001b[0;34m\u001b[0m\u001b[0m\n\u001b[0m",
            "\u001b[0;31mTypeError\u001b[0m: EnsembleBlackBoxDetector.load_model() missing 1 required positional argument: 'learner_types'"
          ]
        }
      ],
      "source": []
    },
    {
      "cell_type": "code",
      "execution_count": null,
      "metadata": {
        "id": "LwBcKr5H3qT4"
      },
      "outputs": [],
      "source": [
        "load_model = pickle.load(open(\"/content/drive/MyDrive/MalwareScore.pkl\",\"rb\"))"
      ]
    },
    {
      "cell_type": "code",
      "execution_count": null,
      "metadata": {
        "colab": {
          "base_uri": "https://localhost:8080/"
        },
        "id": "U4J6t8GwI66-",
        "outputId": "b90e5875-b81d-441f-d5e8-e54b301634e7"
      },
      "outputs": [
        {
          "name": "stdout",
          "output_type": "stream",
          "text": [
            "[[1. 1. 1. ... 0. 0. 0.]]\n"
          ]
        }
      ],
      "source": [
        "t = load_model.predict(X_test_torch_mal)"
      ]
    },
    {
      "cell_type": "code",
      "execution_count": null,
      "metadata": {
        "colab": {
          "base_uri": "https://localhost:8080/"
        },
        "id": "PAvdH2diTg0s",
        "outputId": "5c2a3e31-0e49-4428-debc-b77b0e46b048"
      },
      "outputs": [
        {
          "data": {
            "text/plain": [
              "0.9996148347854614"
            ]
          },
          "execution_count": 276,
          "metadata": {},
          "output_type": "execute_result"
        }
      ],
      "source": [
        "t.item()"
      ]
    },
    {
      "cell_type": "code",
      "execution_count": null,
      "metadata": {
        "id": "X-QqbtmeXXuO"
      },
      "outputs": [],
      "source": []
    }
  ],
  "metadata": {
    "colab": {
      "provenance": []
    },
    "kernelspec": {
      "display_name": "Python 3",
      "name": "python3"
    },
    "language_info": {
      "name": "python"
    }
  },
  "nbformat": 4,
  "nbformat_minor": 0
}
