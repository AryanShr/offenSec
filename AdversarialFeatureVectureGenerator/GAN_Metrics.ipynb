{
  "nbformat": 4,
  "nbformat_minor": 0,
  "metadata": {
    "colab": {
      "provenance": [],
      "authorship_tag": "ABX9TyP6biECyjwnscU+QdRl4mso",
      "include_colab_link": true
    },
    "kernelspec": {
      "name": "python3",
      "display_name": "Python 3"
    },
    "language_info": {
      "name": "python"
    }
  },
  "cells": [
    {
      "cell_type": "markdown",
      "metadata": {
        "id": "view-in-github",
        "colab_type": "text"
      },
      "source": [
        "<a href=\"https://colab.research.google.com/github/AryanShr/offenSec/blob/main/AdversarialFeatureVectureGenerator/GAN_Metrics.ipynb\" target=\"_parent\"><img src=\"https://colab.research.google.com/assets/colab-badge.svg\" alt=\"Open In Colab\"/></a>"
      ]
    },
    {
      "cell_type": "code",
      "execution_count": null,
      "metadata": {
        "id": "JggHDatFtcvp"
      },
      "outputs": [],
      "source": [
        "import numpy as np\n",
        "import seaborn as sns\n",
        "import matplotlib.pyplot as plt\n",
        "from scipy.spatial import distance\n",
        "import pickle"
      ]
    },
    {
      "cell_type": "code",
      "source": [
        "from google.colab import drive\n",
        "drive.mount('/content/drive')"
      ],
      "metadata": {
        "colab": {
          "base_uri": "https://localhost:8080/"
        },
        "id": "X9yt0B_rvppN",
        "outputId": "95e30e94-c543-462f-d3a5-2d58dc1c4b28"
      },
      "execution_count": null,
      "outputs": [
        {
          "output_type": "stream",
          "name": "stdout",
          "text": [
            "Mounted at /content/drive\n"
          ]
        }
      ]
    },
    {
      "cell_type": "code",
      "source": [],
      "metadata": {
        "id": "l_DlmI6X_szJ"
      },
      "execution_count": null,
      "outputs": []
    },
    {
      "cell_type": "code",
      "source": [
        "with open('/content/drive/MyDrive/Output/Original.pk','rb') as f:\n",
        "  orig = pickle.load(f)\n",
        "\n",
        "orig[0]"
      ],
      "metadata": {
        "colab": {
          "base_uri": "https://localhost:8080/"
        },
        "outputId": "cdda832b-5912-4d91-8a59-aa959b966fb6",
        "id": "7Ty9Sjf2_uk9"
      },
      "execution_count": null,
      "outputs": [
        {
          "output_type": "execute_result",
          "data": {
            "text/plain": [
              "tensor([[1., 1., 1.,  ..., 0., 0., 0.],\n",
              "        [1., 1., 1.,  ..., 0., 0., 0.],\n",
              "        [1., 1., 1.,  ..., 0., 0., 0.],\n",
              "        ...,\n",
              "        [1., 1., 1.,  ..., 0., 0., 0.],\n",
              "        [1., 1., 1.,  ..., 0., 0., 0.],\n",
              "        [1., 1., 1.,  ..., 0., 0., 0.]])"
            ]
          },
          "metadata": {},
          "execution_count": 60
        }
      ]
    },
    {
      "cell_type": "code",
      "source": [
        "with open('/content/drive/MyDrive/Output/diff_adversarial_feature_set.pk','rb') as f:\n",
        "  data_diff = pickle.load(f)\n",
        "\n",
        "data_diff[0]"
      ],
      "metadata": {
        "colab": {
          "base_uri": "https://localhost:8080/"
        },
        "id": "WGqnmSz-voyl",
        "outputId": "2ca95cd5-2a84-4ca6-879b-6457cab9cfee"
      },
      "execution_count": null,
      "outputs": [
        {
          "output_type": "execute_result",
          "data": {
            "text/plain": [
              "tensor([[1., 1., 1.,  ..., 0., 1., 0.],\n",
              "        [1., 1., 1.,  ..., 0., 1., 0.],\n",
              "        [1., 1., 1.,  ..., 0., 1., 0.],\n",
              "        ...,\n",
              "        [1., 1., 1.,  ..., 0., 1., 0.],\n",
              "        [1., 1., 1.,  ..., 0., 1., 0.],\n",
              "        [1., 1., 1.,  ..., 0., 1., 0.]])"
            ]
          },
          "metadata": {},
          "execution_count": 4
        }
      ]
    },
    {
      "cell_type": "code",
      "source": [
        "with open('/content/drive/MyDrive/Output/adversarial_feature_set.pk','rb') as f:\n",
        "  data = pickle.load(f)\n",
        "\n",
        "data[0]"
      ],
      "metadata": {
        "colab": {
          "base_uri": "https://localhost:8080/"
        },
        "id": "VI3EH8tXv5pZ",
        "outputId": "7b3de5a8-df94-47b7-8b92-c9c6079e4739"
      },
      "execution_count": null,
      "outputs": [
        {
          "output_type": "execute_result",
          "data": {
            "text/plain": [
              "tensor([[1., 1., 1.,  ..., 1., 1., 0.],\n",
              "        [1., 1., 1.,  ..., 1., 1., 0.],\n",
              "        [1., 1., 1.,  ..., 1., 1., 0.],\n",
              "        ...,\n",
              "        [1., 1., 1.,  ..., 1., 1., 0.],\n",
              "        [1., 1., 1.,  ..., 1., 1., 0.],\n",
              "        [1., 1., 1.,  ..., 1., 1., 0.]])"
            ]
          },
          "metadata": {},
          "execution_count": 5
        }
      ]
    },
    {
      "cell_type": "code",
      "source": [
        "import torch\n",
        "import torch.nn.functional as F\n",
        "\n",
        "def kl_divergence(p, q):\n",
        "    \"\"\"\n",
        "    Compute the Kullback-Leibler Divergence\n",
        "    Args:\n",
        "    p (Tensor): Tensor representing distribution p\n",
        "    q (Tensor): Tensor representing distribution q\n",
        "    Returns:\n",
        "    float: The KL divergence between p and q\n",
        "    \"\"\"\n",
        "    p = F.softmax(p, dim=0)\n",
        "    q = F.softmax(q, dim=0)\n",
        "    return torch.sum(p * torch.log(p / q), dim=0)"
      ],
      "metadata": {
        "id": "slzTMeNoxn33"
      },
      "execution_count": null,
      "outputs": []
    },
    {
      "cell_type": "code",
      "source": [
        "def js_divergence(p, q):\n",
        "    \"\"\"\n",
        "    Compute the Jensen-Shannon Divergence\n",
        "    Args:\n",
        "    p (Tensor): Tensor representing distribution p\n",
        "    q (Tensor): Tensor representing distribution q\n",
        "    Returns:\n",
        "    float: The JS divergence between p and q\n",
        "    \"\"\"\n",
        "    m = 0.5 * (p + q)\n",
        "    return 0.5 * kl_divergence(p, m) + 0.5 * kl_divergence(q, m)\n"
      ],
      "metadata": {
        "id": "kZv9Z4VHz_A0"
      },
      "execution_count": null,
      "outputs": []
    },
    {
      "cell_type": "code",
      "source": [
        "num_bins = 10\n"
      ],
      "metadata": {
        "id": "V4T4GeiP16m5"
      },
      "execution_count": null,
      "outputs": []
    },
    {
      "cell_type": "code",
      "source": [
        "histograms1 = [torch.histc(t.flatten(), bins=num_bins, min=0, max=1) for t in data]"
      ],
      "metadata": {
        "id": "iQpt7JKf18db"
      },
      "execution_count": null,
      "outputs": []
    },
    {
      "cell_type": "code",
      "source": [
        "histograms2 = [torch.histc(t.flatten(), bins=num_bins, min=0, max=1) for t in data_diff]"
      ],
      "metadata": {
        "id": "eJOFLD0E1-J6"
      },
      "execution_count": null,
      "outputs": []
    },
    {
      "cell_type": "code",
      "source": [
        "histograms3 = [torch.histc(t.flatten(), bins=num_bins, min=0, max=1) for t in orig]"
      ],
      "metadata": {
        "id": "XBTcHR_4ARCA"
      },
      "execution_count": null,
      "outputs": []
    },
    {
      "cell_type": "code",
      "source": [
        "prob_distributions1 = [h / h.sum() for h in histograms1]\n",
        "prob_distributions2 = [h / h.sum() for h in histograms2]\n",
        "prob_distributions3 = [h / h.sum() for h in histograms3]"
      ],
      "metadata": {
        "id": "_4zCjfIj0FD0"
      },
      "execution_count": null,
      "outputs": []
    },
    {
      "cell_type": "code",
      "source": [
        "total_kl_div1 = 0\n",
        "total_js_div1 = 0\n",
        "total_kl_div2 = 0\n",
        "total_js_div2 = 0"
      ],
      "metadata": {
        "id": "VDlqnnoz0BAw"
      },
      "execution_count": null,
      "outputs": []
    },
    {
      "cell_type": "code",
      "source": [
        "for i in range(len(data)):\n",
        "    for j in range(i+1, len(data)):\n",
        "        total_kl_div1 += kl_divergence(prob_distributions1[i], prob_distributions3[j])\n",
        "        total_js_div1 += js_divergence(prob_distributions1[i], prob_distributions3[j])"
      ],
      "metadata": {
        "id": "hlzcfOUS0CjB"
      },
      "execution_count": null,
      "outputs": []
    },
    {
      "cell_type": "code",
      "source": [
        "for i in range(len(data_diff)):\n",
        "    for j in range(i+1, len(data_diff)):\n",
        "        total_kl_div2 += kl_divergence(prob_distributions2[i], prob_distributions3[j])\n",
        "        total_js_div2 += js_divergence(prob_distributions2[i], prob_distributions3[j])"
      ],
      "metadata": {
        "id": "Y3w1LURQ2HT-"
      },
      "execution_count": null,
      "outputs": []
    },
    {
      "cell_type": "code",
      "source": [
        "avg_kl_div1 = total_kl_div1 / (len(data) * (len(orig) - 1) / 2)\n",
        "avg_js_div1 = total_js_div1 / (len(data) * (len(orig) - 1) / 2)\n",
        "avg_kl_div2 = total_kl_div2 / (len(data_diff) * (len(orig) - 1) / 2)\n",
        "avg_js_div2 = total_js_div2 / (len(data_diff) * (len(orig) - 1) / 2)"
      ],
      "metadata": {
        "id": "7L1mQmtl2MQY"
      },
      "execution_count": null,
      "outputs": []
    },
    {
      "cell_type": "code",
      "source": [
        "avg_kl_div1, avg_js_div1"
      ],
      "metadata": {
        "colab": {
          "base_uri": "https://localhost:8080/"
        },
        "id": "G3hWf3FP2U8u",
        "outputId": "a2955d4d-d0e1-48ea-9543-b66245e4ec41"
      },
      "execution_count": null,
      "outputs": [
        {
          "output_type": "execute_result",
          "data": {
            "text/plain": [
              "(tensor(0.0287), tensor(0.0072))"
            ]
          },
          "metadata": {},
          "execution_count": 70
        }
      ]
    },
    {
      "cell_type": "code",
      "source": [
        "avg_kl_div2, avg_js_div2"
      ],
      "metadata": {
        "colab": {
          "base_uri": "https://localhost:8080/"
        },
        "id": "7WK8iU-32YWo",
        "outputId": "c7cc12fc-6c2b-495c-bd2a-a30e22042a38"
      },
      "execution_count": null,
      "outputs": [
        {
          "output_type": "execute_result",
          "data": {
            "text/plain": [
              "(tensor(0.0396), tensor(0.0099))"
            ]
          },
          "metadata": {},
          "execution_count": 71
        }
      ]
    },
    {
      "cell_type": "code",
      "source": [
        "def euclidean_distance(tensor1, tensor2):\n",
        "    return torch.sqrt(torch.sum((tensor1 - tensor2) ** 2))\n"
      ],
      "metadata": {
        "id": "vsz87cZm2d3U"
      },
      "execution_count": null,
      "outputs": []
    },
    {
      "cell_type": "code",
      "source": [
        "def pad_tensor(t, target_length):\n",
        "    \"\"\"\n",
        "    Pad tensor 't' with zeros until it reaches 'target_length'.\n",
        "    Args:\n",
        "    t (Tensor): Tensor to be padded\n",
        "    target_length (int): Desired length of the tensor after padding\n",
        "    Returns:\n",
        "    Tensor: The padded tensor\n",
        "    \"\"\"\n",
        "    padding_size = target_length - t.numel()\n",
        "    if padding_size > 0:\n",
        "        t = torch.cat((t, torch.zeros(padding_size)), dim=0)\n",
        "    return t\n"
      ],
      "metadata": {
        "id": "pMJaWeSp6VHq"
      },
      "execution_count": null,
      "outputs": []
    },
    {
      "cell_type": "code",
      "source": [
        "distances = []\n",
        "for i in range(len(data)):\n",
        "    for j in range(i + 1, len(orig)):\n",
        "        max_length = max(data[i].numel(), orig[j].numel())\n",
        "        distance = euclidean_distance(pad_tensor(data[i].flatten(), max_length), pad_tensor(orig[j].flatten(), max_length))\n",
        "        distances.append(distance.item())\n"
      ],
      "metadata": {
        "id": "OypWdjDL4CJW"
      },
      "execution_count": null,
      "outputs": []
    },
    {
      "cell_type": "code",
      "source": [
        "import matplotlib.pyplot as plt\n",
        "\n",
        "plt.hist(distances, bins=50)\n",
        "plt.title('Histogram of Euclidean Distances')\n",
        "plt.xlabel('Distance')\n",
        "plt.ylabel('Frequency')\n",
        "plt.show()\n"
      ],
      "metadata": {
        "id": "EqZL5P504PnE",
        "colab": {
          "base_uri": "https://localhost:8080/",
          "height": 472
        },
        "outputId": "76493a34-b773-46c3-d327-331037c5d747"
      },
      "execution_count": null,
      "outputs": [
        {
          "output_type": "display_data",
          "data": {
            "text/plain": [
              "<Figure size 640x480 with 1 Axes>"
            ],
            "image/png": "[encoded data removed]"
          },
          "metadata": {}
        }
      ]
    },
    {
      "cell_type": "code",
      "source": [],
      "metadata": {
        "id": "alr8CQqq5hMJ"
      },
      "execution_count": null,
      "outputs": []
    },
    {
      "cell_type": "code",
      "source": [
        "distances_diff = []\n",
        "for i in range(len(data_diff)):\n",
        "    for j in range(i + 1, len(orig)):\n",
        "        max_length = max(data_diff[i].numel(), orig[j].numel())\n",
        "        distance = euclidean_distance(pad_tensor(data_diff[i].flatten(), max_length), pad_tensor(orig[j].flatten(), max_length))\n",
        "        distances_diff.append(distance.item())\n"
      ],
      "metadata": {
        "id": "8geUx9Qz6m6l"
      },
      "execution_count": null,
      "outputs": []
    },
    {
      "cell_type": "code",
      "source": [
        "import matplotlib.pyplot as plt\n",
        "\n",
        "plt.hist(distances_diff, bins=50)\n",
        "plt.title('Histogram of Euclidean Distances')\n",
        "plt.xlabel('Distance')\n",
        "plt.ylabel('Frequency')\n",
        "plt.show()\n"
      ],
      "metadata": {
        "colab": {
          "base_uri": "https://localhost:8080/",
          "height": 472
        },
        "outputId": "284f8c22-3edd-4ac1-a423-514980736a3a",
        "id": "wAG60Gc76m6m"
      },
      "execution_count": null,
      "outputs": [
        {
          "output_type": "display_data",
          "data": {
            "text/plain": [
              "<Figure size 640x480 with 1 Axes>"
            ],
            "image/png": "[encoded data removed]"
          },
          "metadata": {}
        }
      ]
    },
    {
      "cell_type": "code",
      "source": [],
      "metadata": {
        "id": "FaD607Ru6xtK"
      },
      "execution_count": null,
      "outputs": []
    }
  ]
}