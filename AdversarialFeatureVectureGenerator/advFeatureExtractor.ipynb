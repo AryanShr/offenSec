{
  "nbformat": 4,
  "nbformat_minor": 0,
  "metadata": {
    "colab": {
      "provenance": [],
      "authorship_tag": "ABX9TyOYhARmOrPyuo3F4mLZ+UEA",
      "include_colab_link": true
    },
    "kernelspec": {
      "name": "python3",
      "display_name": "Python 3"
    },
    "language_info": {
      "name": "python"
    }
  },
  "cells": [
    {
      "cell_type": "markdown",
      "metadata": {
        "id": "view-in-github",
        "colab_type": "text"
      },
      "source": [
        "<a href=\"https://colab.research.google.com/github/AryanShr/offenSec/blob/main/AdversarialFeatureVectureGenerator/advFeatureExtractor.ipynb\" target=\"_parent\"><img src=\"https://colab.research.google.com/assets/colab-badge.svg\" alt=\"Open In Colab\"/></a>"
      ]
    },
    {
      "cell_type": "code",
      "execution_count": null,
      "metadata": {
        "colab": {
          "base_uri": "https://localhost:8080/"
        },
        "id": "AS82kBScLAIB",
        "outputId": "f5fcda75-c94b-4606-edf7-fc7fe640393b"
      },
      "outputs": [
        {
          "output_type": "stream",
          "name": "stdout",
          "text": [
            "Mounted at /content/drive\n"
          ]
        }
      ],
      "source": [
        "from google.colab import drive\n",
        "drive.mount('/content/drive')"
      ]
    },
    {
      "cell_type": "code",
      "source": [
        "import pickle\n",
        "from tqdm import tqdm\n",
        "import os"
      ],
      "metadata": {
        "id": "rGTMmlWQLx3l"
      },
      "execution_count": null,
      "outputs": []
    },
    {
      "cell_type": "code",
      "source": [
        "def import_extractor(adversarial_vector: str, feature_mapping: str):\n",
        "    feature_vector_mapping = pickle.load(open(str(feature_mapping), \"rb\"))\n",
        "    adversarial_feature_vector = pickle.load(open(adversarial_vector, \"rb\"))\n",
        "\n",
        "    feature_vector_mapping = [import_lib for import_lib in feature_vector_mapping]\n",
        "    adversarial_imports_set = []\n",
        "    count = 0\n",
        "\n",
        "    for index in tqdm(range(len(adversarial_feature_vector)), desc=\"Mapping imports ...\"):\n",
        "        for i in range(len(adversarial_feature_vector[index])):\n",
        "            sample = adversarial_feature_vector[index][i]\n",
        "            sample = sample.tolist()\n",
        "            adversial_imports = []\n",
        "            unfiltered_adversial_imports = []\n",
        "            for i in range(len(sample)):\n",
        "                if sample[i] > 0:\n",
        "                    unfiltered_adversial_imports.append(feature_vector_mapping[i])\n",
        "\n",
        "            for imports in unfiltered_adversial_imports:\n",
        "                if \"32\" in imports:\n",
        "                    adversial_imports.append(imports)\n",
        "            adversarial_imports_set.append(adversial_imports)\n",
        "            count = count + 1\n",
        "            break\n",
        "        break\n",
        "    return adversarial_imports_set\n"
      ],
      "metadata": {
        "id": "1kryVl08LGZo"
      },
      "execution_count": null,
      "outputs": []
    },
    {
      "cell_type": "code",
      "source": [
        "\n",
        "def section_extractor(adversarial_vector: str, feature_mapping: str):\n",
        "    feature_vector_mapping = pickle.load(open(feature_mapping, \"rb\"))\n",
        "\n",
        "    adversarial_feature_vector = pickle.load(open(adversarial_vector, \"rb\"))\n",
        "\n",
        "    feature_vector_mapping = [import_lib for import_lib in feature_vector_mapping]\n",
        "\n",
        "    adversarial_section_set = []\n",
        "    count = 0\n",
        "    for index in tqdm(range(len(adversarial_feature_vector)), desc=\"Mapping sections ...\" ):\n",
        "\n",
        "        for i in tqdm(\n",
        "            range(len(adversarial_feature_vector[index])), desc=\"  Extracting : \"\n",
        "        ):\n",
        "            sample = adversarial_feature_vector[index][i]\n",
        "            sample = sample.tolist()\n",
        "            adversial_section = []\n",
        "\n",
        "            for i in range(len(sample)):\n",
        "                if sample[i] > 0:\n",
        "                    adversial_section.append(feature_vector_mapping[i])\n",
        "\n",
        "            adversarial_section_set.append(adversial_section)\n",
        "\n",
        "            break\n",
        "            count = count + 1\n",
        "\n",
        "        break\n",
        "    return adversarial_section_set"
      ],
      "metadata": {
        "id": "mxoGxxxaSO7W"
      },
      "execution_count": null,
      "outputs": []
    },
    {
      "cell_type": "code",
      "source": [
        "feature_mapping = \"/content/drive/MyDrive/Feature_Vector/feature_vector_mapping.pk\"\n",
        "adversarial_vector = \"/content/drive/MyDrive/Output/diff_adversarial_feature_set.pk\""
      ],
      "metadata": {
        "id": "8HJoh03VMjI8"
      },
      "execution_count": null,
      "outputs": []
    },
    {
      "cell_type": "code",
      "source": [
        "feature_vector_mapping = pickle.load(open(str(feature_mapping), \"rb\"))\n",
        "len(feature_vector_mapping)"
      ],
      "metadata": {
        "colab": {
          "base_uri": "https://localhost:8080/"
        },
        "id": "JaK25EdJPU0m",
        "outputId": "c1164cbb-87a0-41fa-ac0f-e5f1ceb75f01"
      },
      "execution_count": null,
      "outputs": [
        {
          "output_type": "execute_result",
          "data": {
            "text/plain": [
              "7346"
            ]
          },
          "metadata": {},
          "execution_count": 6
        }
      ]
    },
    {
      "cell_type": "code",
      "source": [
        "adversarial_imports_set = import_extractor(adversarial_vector,feature_mapping)"
      ],
      "metadata": {
        "colab": {
          "base_uri": "https://localhost:8080/"
        },
        "id": "G9QP5rzvMy4h",
        "outputId": "b1312044-ccfb-467c-a801-43c664b44d9b"
      },
      "execution_count": null,
      "outputs": [
        {
          "output_type": "stream",
          "name": "stderr",
          "text": [
            "Mapping imports ...:   0%|          | 0/59 [00:00<?, ?it/s]\n"
          ]
        }
      ]
    },
    {
      "cell_type": "code",
      "source": [
        "adversarial_sections_set = section_extractor(adversarial_vector, feature_mapping)\n"
      ],
      "metadata": {
        "colab": {
          "base_uri": "https://localhost:8080/"
        },
        "id": "iKQlaoQrShPA",
        "outputId": "79f4a6d8-625c-4810-8832-5dbf11917c6a"
      },
      "execution_count": null,
      "outputs": [
        {
          "output_type": "stream",
          "name": "stderr",
          "text": [
            "Mapping sections ...:   0%|          | 0/59 [00:00<?, ?it/s]\n",
            "  Extracting :   0%|          | 0/32 [00:00<?, ?it/s]\n",
            "Mapping sections ...:   0%|          | 0/59 [00:00<?, ?it/s]\n"
          ]
        }
      ]
    },
    {
      "cell_type": "code",
      "source": [
        "RL_features = \"/content/drive/MyDrive/RLFeatures\""
      ],
      "metadata": {
        "id": "bWCzzT6ZSxeB"
      },
      "execution_count": null,
      "outputs": []
    },
    {
      "cell_type": "code",
      "source": [
        "pickle.dump(adversarial_imports_set,open(os.path.join(RL_features, \"adversarial_imports_set.pk\"), \"wb\"))"
      ],
      "metadata": {
        "id": "r-kb0_eMRO_d"
      },
      "execution_count": null,
      "outputs": []
    },
    {
      "cell_type": "code",
      "source": [
        "pickle.dump(\n",
        "            adversarial_sections_set,\n",
        "            open(os.path.join(RL_features, \"adversarial_sections_set.pk\"), \"wb\"),\n",
        "        )"
      ],
      "metadata": {
        "id": "n5WUAveuR9gC"
      },
      "execution_count": null,
      "outputs": []
    },
    {
      "cell_type": "code",
      "source": [
        "# If some more help is required\n",
        "# Refer https://github.com/CyberForce/Pesidious/blob/master/binary_builder.py#L671"
      ],
      "metadata": {
        "id": "ao9hZqrJS2_b"
      },
      "execution_count": null,
      "outputs": []
    },
    {
      "cell_type": "code",
      "source": [
        "adversarial_sections_set[0]"
      ],
      "metadata": {
        "id": "smGvt3cRTRTg",
        "colab": {
          "base_uri": "https://localhost:8080/"
        },
        "outputId": "f200d074-8c35-454b-e55a-9cf1bfae1d6d"
      },
      "execution_count": null,
      "outputs": [
        {
          "output_type": "execute_result",
          "data": {
            "text/plain": [
              "['UpdateWindow:user32.dll',\n",
              " 'LoadCursorA:user32.dll',\n",
              " 'ShowWindow:user32.dll',\n",
              " 'PostQuitMessage:user32.dll',\n",
              " 'GetMessageA:user32.dll',\n",
              " 'EndPaint:user32.dll',\n",
              " 'BeginPaint:user32.dll',\n",
              " 'TranslateMessage:user32.dll',\n",
              " 'CreateWindowExA:user32.dll',\n",
              " 'RegisterClassExA:user32.dll',\n",
              " 'DefWindowProcA:user32.dll',\n",
              " 'DestroyWindow:user32.dll',\n",
              " 'GetCurrentThreadId:kernel32.dll',\n",
              " 'CreateFileA:kernel32.dll',\n",
              " 'lstrcpyA:kernel32.dll',\n",
              " 'GetModuleHandleA:kernel32.dll',\n",
              " 'GetCommandLineA:kernel32.dll',\n",
              " 'GetCurrentDirectoryA:kernel32.dll',\n",
              " 'FindNextFileA:kernel32.dll',\n",
              " 'CloseHandle:kernel32.dll',\n",
              " 'GetCurrentProcessId:kernel32.dll',\n",
              " 'SetSetupSave:clbcatq.dll',\n",
              " 'NetReplExportDirLock:netapi32.dll',\n",
              " 'NetReplExportDirSetInfo:netapi32.dll',\n",
              " 'NetReplExportDirUnlock:netapi32.dll',\n",
              " 'NetReplGetInfo:netapi32.dll',\n",
              " 'NetReplImportDirAdd:netapi32.dll',\n",
              " 'NetReplImportDirGetInfo:netapi32.dll',\n",
              " 'NetReplImportDirLock:netapi32.dll',\n",
              " 'NetReplImportDirUnlock:netapi32.dll',\n",
              " 'NetReplSetInfo:netapi32.dll',\n",
              " 'NetScheduleJobGetInfo:netapi32.dll',\n",
              " 'NetServerComputerNameDel:netapi32.dll',\n",
              " 'NetServerDiskEnum:netapi32.dll',\n",
              " 'NetServerEnum:netapi32.dll',\n",
              " 'NetServerEnumEx:netapi32.dll',\n",
              " 'NetServerGetInfo:netapi32.dll',\n",
              " 'NetServerSetInfo:netapi32.dll',\n",
              " 'NetServerTransportAdd:netapi32.dll',\n",
              " 'NetServerTransportAddEx:netapi32.dll',\n",
              " 'NetServerTransportDel:netapi32.dll',\n",
              " 'NetServerTransportEnum:netapi32.dll',\n",
              " 'NetServiceControl:netapi32.dll',\n",
              " 'NetServiceEnum:netapi32.dll',\n",
              " 'NetServiceGetInfo:netapi32.dll',\n",
              " 'NetServiceInstall:netapi32.dll',\n",
              " 'NetSessionDel:netapi32.dll',\n",
              " 'FreeConsole:kernel32.dll',\n",
              " 'GetEnvironmentVariableA:kernel32.dll',\n",
              " 'OutputDebugStringW:kernel32.dll',\n",
              " 'AllocConsole:kernel32.dll',\n",
              " 'IsBadCodePtr:kernel32.dll',\n",
              " 'GetDiskFreeSpaceA:kernel32.dll',\n",
              " 'RestoreLastError:kernel32.dll',\n",
              " 'QueryDosDeviceW:kernel32.dll',\n",
              " 'SQLGetCursorNameW:odbc32.dll',\n",
              " 'SQLGetDescField:odbc32.dll',\n",
              " 'SQLGetDescRecW:odbc32.dll',\n",
              " 'SQLGetDiagFieldW:odbc32.dll',\n",
              " 'AddMRUStringW:comctl32.dll',\n",
              " 'EnterCriticalSection:kernel32.dll',\n",
              " 'LoadLibraryA:kernel32.dll',\n",
              " 'SetCurrentDirectoryA:kernel32.dll',\n",
              " 'FoldStringA:kernel32.dll',\n",
              " 'GetPrivateProfileIntW:kernel32.dll',\n",
              " 'SetStdHandle:kernel32.dll',\n",
              " 'HeapCreate:kernel32.dll',\n",
              " 'OpenKeyReader:aaclient.dll',\n",
              " 'LoadClientAdapter:aaclient.dll',\n",
              " 'OpenKeyReaderWriter:aaclient.dll',\n",
              " 'memset:msvcrt.dll',\n",
              " 'ceil:msvcrt.dll',\n",
              " 'malloc:msvcrt.dll',\n",
              " 'floor:msvcrt.dll',\n",
              " 'free:msvcrt.dll',\n",
              " 'fclose:msvcrt.dll',\n",
              " 'strlen:msvcrt.dll',\n",
              " 'memmove:msvcrt.dll',\n",
              " 'HeapDestroy:kernel32.dll',\n",
              " 'ExitProcess:kernel32.dll',\n",
              " 'HeapFree:kernel32.dll',\n",
              " 'InitializeCriticalSection:kernel32.dll',\n",
              " 'TlsAlloc:kernel32.dll',\n",
              " 'TlsGetValue:kernel32.dll',\n",
              " 'TlsSetValue:kernel32.dll',\n",
              " 'DeleteCriticalSection:kernel32.dll',\n",
              " 'InterlockedCompareExchange:kernel32.dll',\n",
              " 'WaitForMultipleObjects:kernel32.dll',\n",
              " 'GetCurrentThread:kernel32.dll',\n",
              " 'DuplicateHandle:kernel32.dll',\n",
              " 'CreateSemaphoreA:kernel32.dll',\n",
              " 'CreateThread:kernel32.dll',\n",
              " 'CallWindowProcA:user32.dll',\n",
              " 'ShowCursor:user32.dll',\n",
              " 'InvalidateRect:user32.dll',\n",
              " 'GetWindow:user32.dll',\n",
              " 'SetActiveWindow:user32.dll',\n",
              " 'RemovePropA:user32.dll',\n",
              " 'DestroyAcceleratorTable:user32.dll',\n",
              " 'SetCursorPos:user32.dll',\n",
              " 'GetWindowLongA:user32.dll',\n",
              " 'GetParent:user32.dll',\n",
              " 'MapWindowPoints:user32.dll',\n",
              " 'SystemParametersInfoA:user32.dll',\n",
              " 'GetSystemMetrics:user32.dll',\n",
              " 'GetKeyState:user32.dll',\n",
              " 'PostMessageA:user32.dll',\n",
              " 'GetCursorPos:user32.dll',\n",
              " 'DestroyIcon:user32.dll',\n",
              " 'FillRect:user32.dll',\n",
              " 'DeleteObject:gdi32.dll',\n",
              " 'GetStockObject:gdi32.dll',\n",
              " 'GetDIBits:gdi32.dll',\n",
              " 'DeleteDC:gdi32.dll',\n",
              " 'SelectObject:gdi32.dll',\n",
              " 'SetPixel:gdi32.dll',\n",
              " 'mciSendCommandA:winmm.dll',\n",
              " 'CoUninitialize:ole32.dll',\n",
              " 'CoInitialize:ole32.dll',\n",
              " 'VirtualFree:kernel32.dll',\n",
              " 'VirtualAlloc:kernel32.dll',\n",
              " 'GetVersion:kernel32.dll',\n",
              " 'InterlockedDecrement:kernel32.dll',\n",
              " 'InterlockedIncrement:kernel32.dll',\n",
              " 'lstrcpynA:kernel32.dll',\n",
              " 'LoadLibraryExA:kernel32.dll',\n",
              " 'GetThreadLocale:kernel32.dll',\n",
              " 'GetStartupInfoA:kernel32.dll',\n",
              " 'GetModuleFileNameA:kernel32.dll',\n",
              " 'GetLocaleInfoA:kernel32.dll',\n",
              " 'WriteFile:kernel32.dll',\n",
              " 'RaiseException:kernel32.dll',\n",
              " 'GetKeyboardType:user32.dll',\n",
              " 'CharNextA:user32.dll',\n",
              " 'RegOpenKeyExA:advapi32.dll',\n",
              " 'SysAllocStringLen:oleaut32.dll',\n",
              " 'SetEvent:kernel32.dll',\n",
              " 'LockResource:kernel32.dll',\n",
              " 'GlobalLock:kernel32.dll',\n",
              " 'GlobalAlloc:kernel32.dll',\n",
              " 'GetFileAttributesA:kernel32.dll',\n",
              " 'GetDateFormatA:kernel32.dll',\n",
              " 'GetCPInfo:kernel32.dll',\n",
              " 'CreateDirectoryA:kernel32.dll',\n",
              " 'SetBkMode:gdi32.dll',\n",
              " 'GetDeviceCaps:gdi32.dll',\n",
              " 'SetWindowLongW:user32.dll',\n",
              " 'GetSysColor:user32.dll',\n",
              " 'GetClientRect:user32.dll',\n",
              " 'EndDialog:user32.dll',\n",
              " 'CallWindowProcW:user32.dll',\n",
              " 'CharToOemA:user32.dll',\n",
              " 'SafeArrayGetLBound:oleaut32.dll',\n",
              " 'SafeArrayCreate:oleaut32.dll',\n",
              " 'VariantClear:oleaut32.dll',\n",
              " 'VariantInit:oleaut32.dll',\n",
              " 'ShellExecuteA:shell32.dll',\n",
              " 'SHBrowseForFolderA:shell32.dll',\n",
              " 'time:msvcrt.dll',\n",
              " 'strstr:msvcrt.dll',\n",
              " 'strncpy:msvcrt.dll',\n",
              " 'strncat:msvcrt.dll',\n",
              " 'rand:msvcrt.dll',\n",
              " 'HttpQueryInfoA:wininet.dll',\n",
              " 'GetStartupInfoW:kernel32.dll',\n",
              " 'TerminateProcess:kernel32.dll',\n",
              " 'SetThreadDesktop:user32.dll',\n",
              " 'ReleaseDC:user32.dll',\n",
              " 'GetKeyboardState:user32.dll']"
            ]
          },
          "metadata": {},
          "execution_count": 13
        }
      ]
    },
    {
      "cell_type": "code",
      "source": [
        "adversarial_imports_set[0]"
      ],
      "metadata": {
        "colab": {
          "base_uri": "https://localhost:8080/"
        },
        "id": "xSNfAyF9LUWp",
        "outputId": "fec973f0-cc5f-450c-9d6a-35cfc75dc77f"
      },
      "execution_count": null,
      "outputs": [
        {
          "output_type": "execute_result",
          "data": {
            "text/plain": [
              "['UpdateWindow:user32.dll',\n",
              " 'LoadCursorA:user32.dll',\n",
              " 'ShowWindow:user32.dll',\n",
              " 'PostQuitMessage:user32.dll',\n",
              " 'GetMessageA:user32.dll',\n",
              " 'EndPaint:user32.dll',\n",
              " 'BeginPaint:user32.dll',\n",
              " 'TranslateMessage:user32.dll',\n",
              " 'CreateWindowExA:user32.dll',\n",
              " 'RegisterClassExA:user32.dll',\n",
              " 'DefWindowProcA:user32.dll',\n",
              " 'DestroyWindow:user32.dll',\n",
              " 'GetCurrentThreadId:kernel32.dll',\n",
              " 'CreateFileA:kernel32.dll',\n",
              " 'lstrcpyA:kernel32.dll',\n",
              " 'GetModuleHandleA:kernel32.dll',\n",
              " 'GetCommandLineA:kernel32.dll',\n",
              " 'GetCurrentDirectoryA:kernel32.dll',\n",
              " 'FindNextFileA:kernel32.dll',\n",
              " 'CloseHandle:kernel32.dll',\n",
              " 'GetCurrentProcessId:kernel32.dll',\n",
              " 'NetReplExportDirLock:netapi32.dll',\n",
              " 'NetReplExportDirSetInfo:netapi32.dll',\n",
              " 'NetReplExportDirUnlock:netapi32.dll',\n",
              " 'NetReplGetInfo:netapi32.dll',\n",
              " 'NetReplImportDirAdd:netapi32.dll',\n",
              " 'NetReplImportDirGetInfo:netapi32.dll',\n",
              " 'NetReplImportDirLock:netapi32.dll',\n",
              " 'NetReplImportDirUnlock:netapi32.dll',\n",
              " 'NetReplSetInfo:netapi32.dll',\n",
              " 'NetScheduleJobGetInfo:netapi32.dll',\n",
              " 'NetServerComputerNameDel:netapi32.dll',\n",
              " 'NetServerDiskEnum:netapi32.dll',\n",
              " 'NetServerEnum:netapi32.dll',\n",
              " 'NetServerEnumEx:netapi32.dll',\n",
              " 'NetServerGetInfo:netapi32.dll',\n",
              " 'NetServerSetInfo:netapi32.dll',\n",
              " 'NetServerTransportAdd:netapi32.dll',\n",
              " 'NetServerTransportAddEx:netapi32.dll',\n",
              " 'NetServerTransportDel:netapi32.dll',\n",
              " 'NetServerTransportEnum:netapi32.dll',\n",
              " 'NetServiceControl:netapi32.dll',\n",
              " 'NetServiceEnum:netapi32.dll',\n",
              " 'NetServiceGetInfo:netapi32.dll',\n",
              " 'NetServiceInstall:netapi32.dll',\n",
              " 'NetSessionDel:netapi32.dll',\n",
              " 'FreeConsole:kernel32.dll',\n",
              " 'GetEnvironmentVariableA:kernel32.dll',\n",
              " 'OutputDebugStringW:kernel32.dll',\n",
              " 'AllocConsole:kernel32.dll',\n",
              " 'IsBadCodePtr:kernel32.dll',\n",
              " 'GetDiskFreeSpaceA:kernel32.dll',\n",
              " 'RestoreLastError:kernel32.dll',\n",
              " 'QueryDosDeviceW:kernel32.dll',\n",
              " 'SQLGetCursorNameW:odbc32.dll',\n",
              " 'SQLGetDescField:odbc32.dll',\n",
              " 'SQLGetDescRecW:odbc32.dll',\n",
              " 'SQLGetDiagFieldW:odbc32.dll',\n",
              " 'AddMRUStringW:comctl32.dll',\n",
              " 'EnterCriticalSection:kernel32.dll',\n",
              " 'LoadLibraryA:kernel32.dll',\n",
              " 'SetCurrentDirectoryA:kernel32.dll',\n",
              " 'FoldStringA:kernel32.dll',\n",
              " 'GetPrivateProfileIntW:kernel32.dll',\n",
              " 'SetStdHandle:kernel32.dll',\n",
              " 'HeapCreate:kernel32.dll',\n",
              " 'HeapDestroy:kernel32.dll',\n",
              " 'ExitProcess:kernel32.dll',\n",
              " 'HeapFree:kernel32.dll',\n",
              " 'InitializeCriticalSection:kernel32.dll',\n",
              " 'TlsAlloc:kernel32.dll',\n",
              " 'TlsGetValue:kernel32.dll',\n",
              " 'TlsSetValue:kernel32.dll',\n",
              " 'DeleteCriticalSection:kernel32.dll',\n",
              " 'InterlockedCompareExchange:kernel32.dll',\n",
              " 'WaitForMultipleObjects:kernel32.dll',\n",
              " 'GetCurrentThread:kernel32.dll',\n",
              " 'DuplicateHandle:kernel32.dll',\n",
              " 'CreateSemaphoreA:kernel32.dll',\n",
              " 'CreateThread:kernel32.dll',\n",
              " 'CallWindowProcA:user32.dll',\n",
              " 'ShowCursor:user32.dll',\n",
              " 'InvalidateRect:user32.dll',\n",
              " 'GetWindow:user32.dll',\n",
              " 'SetActiveWindow:user32.dll',\n",
              " 'RemovePropA:user32.dll',\n",
              " 'DestroyAcceleratorTable:user32.dll',\n",
              " 'SetCursorPos:user32.dll',\n",
              " 'GetWindowLongA:user32.dll',\n",
              " 'GetParent:user32.dll',\n",
              " 'MapWindowPoints:user32.dll',\n",
              " 'SystemParametersInfoA:user32.dll',\n",
              " 'GetSystemMetrics:user32.dll',\n",
              " 'GetKeyState:user32.dll',\n",
              " 'PostMessageA:user32.dll',\n",
              " 'GetCursorPos:user32.dll',\n",
              " 'DestroyIcon:user32.dll',\n",
              " 'FillRect:user32.dll',\n",
              " 'DeleteObject:gdi32.dll',\n",
              " 'GetStockObject:gdi32.dll',\n",
              " 'GetDIBits:gdi32.dll',\n",
              " 'DeleteDC:gdi32.dll',\n",
              " 'SelectObject:gdi32.dll',\n",
              " 'SetPixel:gdi32.dll',\n",
              " 'CoUninitialize:ole32.dll',\n",
              " 'CoInitialize:ole32.dll',\n",
              " 'VirtualFree:kernel32.dll',\n",
              " 'VirtualAlloc:kernel32.dll',\n",
              " 'GetVersion:kernel32.dll',\n",
              " 'InterlockedDecrement:kernel32.dll',\n",
              " 'InterlockedIncrement:kernel32.dll',\n",
              " 'lstrcpynA:kernel32.dll',\n",
              " 'LoadLibraryExA:kernel32.dll',\n",
              " 'GetThreadLocale:kernel32.dll',\n",
              " 'GetStartupInfoA:kernel32.dll',\n",
              " 'GetModuleFileNameA:kernel32.dll',\n",
              " 'GetLocaleInfoA:kernel32.dll',\n",
              " 'WriteFile:kernel32.dll',\n",
              " 'RaiseException:kernel32.dll',\n",
              " 'GetKeyboardType:user32.dll',\n",
              " 'CharNextA:user32.dll',\n",
              " 'RegOpenKeyExA:advapi32.dll',\n",
              " 'SysAllocStringLen:oleaut32.dll',\n",
              " 'SetEvent:kernel32.dll',\n",
              " 'LockResource:kernel32.dll',\n",
              " 'GlobalLock:kernel32.dll',\n",
              " 'GlobalAlloc:kernel32.dll',\n",
              " 'GetFileAttributesA:kernel32.dll',\n",
              " 'GetDateFormatA:kernel32.dll',\n",
              " 'GetCPInfo:kernel32.dll',\n",
              " 'CreateDirectoryA:kernel32.dll',\n",
              " 'SetBkMode:gdi32.dll',\n",
              " 'GetDeviceCaps:gdi32.dll',\n",
              " 'SetWindowLongW:user32.dll',\n",
              " 'GetSysColor:user32.dll',\n",
              " 'GetClientRect:user32.dll',\n",
              " 'EndDialog:user32.dll',\n",
              " 'CallWindowProcW:user32.dll',\n",
              " 'CharToOemA:user32.dll',\n",
              " 'SafeArrayGetLBound:oleaut32.dll',\n",
              " 'SafeArrayCreate:oleaut32.dll',\n",
              " 'VariantClear:oleaut32.dll',\n",
              " 'VariantInit:oleaut32.dll',\n",
              " 'ShellExecuteA:shell32.dll',\n",
              " 'SHBrowseForFolderA:shell32.dll',\n",
              " 'GetStartupInfoW:kernel32.dll',\n",
              " 'TerminateProcess:kernel32.dll',\n",
              " 'SetThreadDesktop:user32.dll',\n",
              " 'ReleaseDC:user32.dll',\n",
              " 'GetKeyboardState:user32.dll']"
            ]
          },
          "metadata": {},
          "execution_count": 14
        }
      ]
    },
    {
      "cell_type": "code",
      "source": [],
      "metadata": {
        "id": "zU9iM9BxL3c4"
      },
      "execution_count": null,
      "outputs": []
    }
  ]
}